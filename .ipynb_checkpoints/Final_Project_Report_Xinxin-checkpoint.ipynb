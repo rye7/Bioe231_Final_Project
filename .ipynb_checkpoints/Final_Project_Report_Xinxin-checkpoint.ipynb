{
 "cells": [
  {
   "cell_type": "markdown",
   "metadata": {},
   "source": [
    "# BioE 231 Final Project\n",
    "\n",
    "## Team Members:\n",
    "- Jessica Wu\n",
    "- Yuanyuan Fu\n",
    "- Zihui Xu\n",
    "- Xinxin Mo"
   ]
  },
  {
   "cell_type": "markdown",
   "metadata": {},
   "source": [
    "## Part 1\n",
    "\n",
    "##### 1. Using the SPAdes command line and run it in Screen\n",
    "\n",
    "At the /data/metagenomeWe folder, we find our metagenome, namely 160523Alm_D16-4701_1_sequence.fastq.gz and 160523Alm_D16-4701_2_sequence.fastq.gz. Then we use the onecodex command (from a terminal on bioe131.com) to upload our metagenome data. Then we Login to the website to process it.\n",
    "\n",
    "The command line is as follow:\n",
    "\n",
    "```sh\n",
    "spades -1 /data/metagenomes/160523Alm_D16-4701_1_sequence.fastq.gz -2 /data/metagenomes/160523Alm_D16-4701_2_sequence.fastq.gz -t 2 -m 16 --meta -o ~/snow/Lab_final\n",
    "```\n",
    "\n",
    "annotation of the code above: specify the output directory with --o, the path to the first Illumina read with -1, the path to the second Illumina read with -2\n",
    "\n",
    "##### 2. Utilize web services to quantify the abundance of different microbes in the metagenome\n",
    "\n",
    "**2.1 Upload the metagenome to One Codex **\n",
    "\n",
    "We utilized One Codex to analyse the metagenome data. We used the command line as follow to upload:\n",
    "\n",
    "```sh\n",
    "onecodex upload --forward /data/ metagenomes/160523Alm_D16-4701_1_sequence.fastq.gz --reverse /data/metagenomes/160523alm_D16-4701_2_sequence.fasq.gz\n",
    "```\n",
    "\n",
    "**2.2 Analyse the data**\n"
   ]
  },
  {
   "cell_type": "markdown",
   "metadata": {},
   "source": [
    "#### For 160523Alm_D16-4701_1_sequence.fastq.gz:\n",
    "\n",
    "One Codex shows that this is a mixed/metagenomic sample 11% of  203,616,980 reads were classified using the One Codex database. \n",
    "\n",
    "The 23.63% of the sample composition are Bacteria. The largest composition group is Armatimonadetes bacterium, which occupies 3.91% of the sample. The second largest group is Acidobacteria bacterium, which occupyies 3.83%. Other components on the list are Terrabacteria group, Candidatus Rokubacteria, Miscellaneous Acidobacteria, Proteobacteria, Streptomyces, and Ktedonobacter racemifer DSM 44963, etc.\n",
    "\n",
    "The graph below shows the the result we got.\n",
    "\n",
    "![1](1.PNG)\n",
    "\n",
    "#### For 160523Alm_D16-4701_2_sequence.fastq.gz:\n",
    "\n",
    "One Codex shows that this is a mixed/metagenomic sample 11% of 203,616,980 reads were classified using the One Codex database.\n",
    "\n",
    "The composition of this sequence is similar to the previous sequence.\n",
    "\n",
    "The graph below shows the the result we got.\n",
    "\n",
    "![2](2.PNG)"
   ]
  },
  {
   "cell_type": "markdown",
   "metadata": {},
   "source": [
    "**According to the results that we got from One Codex, we can know that the microbes which were living in our soil sample were Bacteria, such as Armatimonadetes bacterium, Acidobacteria bacterium, Terrabacteria group, Candidatus Rokubacteria, Miscellaneous Acidobacteria, Proteobacteria, Streptomyces, and Ktedonobacter racemifer DSM, etc.**"
   ]
  },
  {
   "cell_type": "code",
   "execution_count": null,
   "metadata": {},
   "outputs": [],
   "source": []
  }
 ],
 "metadata": {
  "kernelspec": {
   "display_name": "Python 3",
   "language": "python",
   "name": "python3"
  },
  "language_info": {
   "codemirror_mode": {
    "name": "ipython",
    "version": 3
   },
   "file_extension": ".py",
   "mimetype": "text/x-python",
   "name": "python",
   "nbconvert_exporter": "python",
   "pygments_lexer": "ipython3",
   "version": "3.6.6"
  }
 },
 "nbformat": 4,
 "nbformat_minor": 2
}
